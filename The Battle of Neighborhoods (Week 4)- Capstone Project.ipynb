{
 "cells": [
  {
   "cell_type": "markdown",
   "metadata": {},
   "source": [
    "# 1. Introduction Section :"
   ]
  },
  {
   "cell_type": "markdown",
   "metadata": {},
   "source": [
    "## Discussion of the business problem and the audience who would be interested in this project."
   ]
  },
  {
   "cell_type": "markdown",
   "metadata": {},
   "source": [
    "### 1.1 Scenario and Background"
   ]
  },
  {
   "cell_type": "markdown",
   "metadata": {},
   "source": [
    "The purpose of this study is to find a neighbourhood that isnt much crowded with people and where an individual can have decent living space with less expenditure. \n",
    "The background: Since the ongoing situation is very dark and we are not sure when the covid situation resolves, we can look for a place that is less overcrowded and the province has good amentities of hospitals, parks, education, as well."
   ]
  },
  {
   "cell_type": "markdown",
   "metadata": {},
   "source": [
    "### 1.2 Problem to be resolved:"
   ]
  },
  {
   "cell_type": "markdown",
   "metadata": {},
   "source": [
    "The challenge to resolve is being able to find a rental apartment unit in Vietnam that offers similar characteristics and benefits to my current situation but in a lesser price since the times are not good now and I need to pay my bills . Therefore, in order to set a basis for comparison, I want to find a renta unit subject to the following conditions:\n",
    "\n",
    "Apartment with min 2 bedrooms with monthly rent not to exceed US $200.\n",
    "Unit located within walking distance (<=1.0 mile, 1.6 km) from a bus stop in Vietnam\n",
    "Area with ammenities and venues similar to the ones described for current location "
   ]
  },
  {
   "cell_type": "markdown",
   "metadata": {},
   "source": [
    "### 1.3 Interested Audience"
   ]
  },
  {
   "cell_type": "markdown",
   "metadata": {},
   "source": [
    "I believe this is a relevant project for a person or entity considering moving to a major city in Europe or Asia, since the approach and methodologies used here are applicable in all cases and at this time where social distancing is a norm, where we need to stay . The use of FourSquare data and mapping techniques combined with data analysis will help resolve the key questions arisen. Lastly, this project is a good practical case toward the development of Data Science skills."
   ]
  },
  {
   "cell_type": "markdown",
   "metadata": {},
   "source": [
    "# 2. Data Section:"
   ]
  },
  {
   "cell_type": "markdown",
   "metadata": {},
   "source": [
    "### Description of the data and its sources that will be used to solve the problem"
   ]
  },
  {
   "cell_type": "markdown",
   "metadata": {},
   "source": [
    "### 2.1 Data of Current Situation"
   ]
  },
  {
   "cell_type": "markdown",
   "metadata": {},
   "source": [
    "I Currently reside in the neighborhood of 'OLD Quarter' in Ha Noi . This is busiest areas in Hanoi, and want to move out of here as it isnt safe staying here as its expensive and its far from the basic amenities of bus stops, hospitals, schools. I use Foursquare to identify the venues around the area of residence which are then shown in the Vietnam map shown in methodology and execution in section 3.0 . It serves as a reference for comparison with the desired future location in Vietnam"
   ]
  },
  {
   "cell_type": "markdown",
   "metadata": {},
   "source": [
    "### 2.2 Data Required to resolve the problem"
   ]
  },
  {
   "cell_type": "markdown",
   "metadata": {},
   "source": [
    "In order to make a good choice of a similar apartment in Manhattan NY, the following data is required: List/Information on neighborhoods form vietnam with their Geodata ( latitude and longitude) http://www.geonames.org/search.html?q=&country=VN. Listed apartments for rent in Vietnam area with descriptions ( how many beds, price, location, address) Venues and ammenities in the Vietnam neighborhoods (e.g. top 10)sources and manipulation The list of neighborhoods in Hanoi with less poplulation density. \n",
    "A list of Vietnam postal codes was complied in Numbers (Apple excel) and it was complemeted with wikipedia data (https://en.wikipedia.org/wiki/Postal_codes_in_Vietnam) "
   ]
  },
  {
   "cell_type": "markdown",
   "metadata": {},
   "source": [
    " "
   ]
  },
  {
   "cell_type": "markdown",
   "metadata": {},
   "source": [
    "### 2.4 How the data will be used to solve the problem"
   ]
  },
  {
   "cell_type": "markdown",
   "metadata": {},
   "source": [
    "The data will be used as follows: Use Foursquare and geopy data to map top 10 venues for all Vietnam neighborhoods and clustered in groups ( as per Course LAB) Use foursquare and geopy data to map the location of bus stops , separately and on top of the above clustered map in order to be able to identify the venues and ammenities near each metro station, or explore places with less population density and having all the basic amenities in radius of 3-4kms. Use Foursquare and geopy data to map the location of rental places. create a map that depicts, for instance, the average rental price per square ft, around a radious of 1.0 mile (1.6 km) around each subway station - or a similar metrics. I will be able to quickly point to the popups to know the relative price per . Addresses from rental locations will be converted to geodata( lat, long) using Geopy-distance and Nominatim. Data will be searched in open data sources if available, from real estate sites if open to reading, libraries or other government agencies. "
   ]
  },
  {
   "cell_type": "markdown",
   "metadata": {},
   "source": [
    "### 2.5 Mapping of Data"
   ]
  },
  {
   "cell_type": "markdown",
   "metadata": {},
   "source": [
    "The following maps were created to facilitate the analysis and the choice of the palace to live. Vietnam map of Neighborhoods m Vietnam map of places for rent Vietnam map of clustered venues and neighborhoods Combined maps of nearby hospitals and schools."
   ]
  },
  {
   "cell_type": "markdown",
   "metadata": {},
   "source": [
    " "
   ]
  },
  {
   "cell_type": "markdown",
   "metadata": {},
   "source": [
    " "
   ]
  },
  {
   "cell_type": "markdown",
   "metadata": {},
   "source": [
    " "
   ]
  },
  {
   "cell_type": "markdown",
   "metadata": {},
   "source": [
    " "
   ]
  },
  {
   "cell_type": "code",
   "execution_count": null,
   "metadata": {},
   "outputs": [],
   "source": []
  }
 ],
 "metadata": {
  "kernelspec": {
   "display_name": "Python 3",
   "language": "python",
   "name": "python3"
  },
  "language_info": {
   "codemirror_mode": {
    "name": "ipython",
    "version": 3
   },
   "file_extension": ".py",
   "mimetype": "text/x-python",
   "name": "python",
   "nbconvert_exporter": "python",
   "pygments_lexer": "ipython3",
   "version": "3.7.3"
  }
 },
 "nbformat": 4,
 "nbformat_minor": 2
}
